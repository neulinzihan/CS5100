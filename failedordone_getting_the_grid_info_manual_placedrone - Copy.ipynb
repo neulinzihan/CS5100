{
 "cells": [
  {
   "cell_type": "code",
   "execution_count": 9,
   "metadata": {},
   "outputs": [],
   "source": [
    "import numpy as np\n",
    "\n",
    "# Constants representing the state of each cell\n",
    "UNEXPLORED = -2\n",
    "OBSTACLE = -1\n",
    "SAFE = 0\n",
    "\n",
    "# Initialize the global grid status as unexplored\n",
    "global_grid = np.full((10, 10), UNEXPLORED)\n",
    "\n",
    "def drone_scan(drone_pos, scan_range, actual_env):\n",
    "    \"\"\"\n",
    "    Perform a local scan around a drone position.\n",
    "\n",
    "    Args:\n",
    "        drone_pos (tuple): Drone coordinates (x, y).\n",
    "        scan_range (int): The range of the drone's field of view (e.g., 3 or 5).\n",
    "        actual_env (np.array): The actual environment (10x10 matrix).\n",
    "\n",
    "    Returns:\n",
    "        tuple: local scanned information and top-left position of the scan.\n",
    "    \"\"\"\n",
    "    half_range = scan_range // 2\n",
    "    local_info = np.full((scan_range, scan_range), UNEXPLORED)\n",
    "\n",
    "    for i in range(scan_range):\n",
    "        for j in range(scan_range):\n",
    "            global_x = drone_pos[0] - half_range + i\n",
    "            global_y = drone_pos[1] - half_range + j\n",
    "\n",
    "            # Check boundaries\n",
    "            if 0 <= global_x < 10 and 0 <= global_y < 10:\n",
    "                local_info[i, j] = actual_env[global_x, global_y]\n",
    "\n",
    "    return local_info, (drone_pos[0] - half_range, drone_pos[1] - half_range)\n",
    "\n",
    "def stitch_information(global_grid, local_info, top_left):\n",
    "    \"\"\"\n",
    "    Merge local drone scans into the global coverage grid.\n",
    "\n",
    "    Args:\n",
    "        global_grid (np.array): Current global grid state.\n",
    "        local_info (np.array): Local scan result from a drone.\n",
    "        top_left (tuple): Top-left coordinate of the local scan in the global grid.\n",
    "\n",
    "    Returns:\n",
    "        np.array: Updated global grid.\n",
    "    \"\"\"\n",
    "    # find top left corner of local scan for better aligning and stitching\n",
    "    x_offset, y_offset = top_left\n",
    "\n",
    "    for i in range(local_info.shape[0]):\n",
    "        for j in range(local_info.shape[1]):\n",
    "            x, y = x_offset + i, y_offset + j\n",
    "            if 0 <= x < 10 and 0 <= y < 10:\n",
    "                # Update global grid only if it's unexplored\n",
    "                if global_grid[x, y] == UNEXPLORED:\n",
    "                    global_grid[x, y] = local_info[i, j]\n",
    "                # If conflicting info, prioritize safe information\n",
    "                elif global_grid[x, y] != local_info[i, j]:\n",
    "                    if local_info[i, j] == SAFE:\n",
    "                        global_grid[x, y] = SAFE\n",
    "    return global_grid\n",
    "\n",
    "# Example actual environment (randomly generated obstacles and safe zones when searching)\n",
    "actual_env = np.random.choice([OBSTACLE, SAFE], size=(10, 10), p=[0.2, 0.8])"
   ]
  },
  {
   "cell_type": "code",
   "execution_count": 10,
   "metadata": {},
   "outputs": [
    {
     "name": "stdout",
     "output_type": "stream",
     "text": [
      "Final Global Grid after Stitching:\n",
      "[[-1  0  0 -2 -2 -2 -2 -2 -2 -2]\n",
      " [ 0 -1  0 -2 -2 -2 -2 -2 -2 -2]\n",
      " [ 0 -1  0  0  0  0  0 -2 -2 -2]\n",
      " [-2 -2 -1  0  0  0 -1 -2 -2 -2]\n",
      " [-2 -2 -1 -1  0  0  0 -2 -2 -2]\n",
      " [-2 -2 -1  0  0  0  0 -2 -2 -2]\n",
      " [-2 -2  0  0  0  0  0 -2 -2 -2]\n",
      " [-2 -2 -2 -2 -2 -2 -2 -2 -2 -2]\n",
      " [-2 -2 -2 -2 -2 -2 -2 -2 -2 -2]\n",
      " [-2 -2 -2 -2 -2 -2 -2 -2 -2 -2]]\n"
     ]
    }
   ],
   "source": [
    "# Example drones with position and scanning range\n",
    "drones = [((1, 1), 3), ((4, 4), 5)]\n",
    "\n",
    "# Perform local scans and stitch them into global grid\n",
    "for pos, scan_range in drones:\n",
    "    local_info, top_left = drone_scan(pos, scan_range, actual_env)\n",
    "    global_grid = stitch_information(global_grid, local_info, top_left)\n",
    "\n",
    "print(\"Final Global Grid after Stitching:\")\n",
    "print(global_grid)"
   ]
  }
 ],
 "metadata": {
  "kernelspec": {
   "display_name": "torchsafe",
   "language": "python",
   "name": "python3"
  },
  "language_info": {
   "codemirror_mode": {
    "name": "ipython",
    "version": 3
   },
   "file_extension": ".py",
   "mimetype": "text/x-python",
   "name": "python",
   "nbconvert_exporter": "python",
   "pygments_lexer": "ipython3",
   "version": "3.10.16"
  }
 },
 "nbformat": 4,
 "nbformat_minor": 2
}
